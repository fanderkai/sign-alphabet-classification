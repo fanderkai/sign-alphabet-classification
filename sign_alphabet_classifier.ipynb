{
 "cells": [
  {
   "cell_type": "code",
   "execution_count": 1,
   "metadata": {
    "id": "_8cZJ7f-rsib"
   },
   "outputs": [
    {
     "name": "stdout",
     "output_type": "stream",
     "text": [
      "WARNING:tensorflow:From C:\\Users\\ASUS\\anaconda3\\Lib\\site-packages\\keras\\src\\losses.py:2976: The name tf.losses.sparse_softmax_cross_entropy is deprecated. Please use tf.compat.v1.losses.sparse_softmax_cross_entropy instead.\n",
      "\n"
     ]
    }
   ],
   "source": [
    "import tensorflow as tf\n",
    "import zipfile\n",
    "import os\n",
    "import shutil\n",
    "import numpy as np\n",
    "import matplotlib.pyplot as plt\n",
    "import matplotlib.image as mpimg\n",
    "from tensorflow.keras.preprocessing import image\n",
    "from tensorflow.keras.preprocessing.image import ImageDataGenerator, load_img, img_to_array\n",
    "from tensorflow.keras.callbacks import EarlyStopping, ReduceLROnPlateau\n",
    "from sklearn.model_selection import train_test_split\n",
    "from PIL import Image\n",
    "%matplotlib inline"
   ]
  },
  {
   "cell_type": "code",
   "execution_count": 2,
   "metadata": {},
   "outputs": [],
   "source": [
    "import logging\n",
    "logging.getLogger('tensorflow').disabled = True"
   ]
  },
  {
   "cell_type": "code",
   "execution_count": 3,
   "metadata": {
    "id": "VpGssaJouO9w"
   },
   "outputs": [
    {
     "name": "stdout",
     "output_type": "stream",
     "text": [
      "100 * 56 resolution: 16967 images\n",
      "75 * 100 resolution: 4556 images\n",
      "100 * 95 resolution: 23 images\n",
      "100 * 100 resolution: 2866 images\n",
      "100 * 98 resolution: 22 images\n",
      "56 * 100 resolution: 1592 images\n",
      "100 * 84 resolution: 28 images\n",
      "87 * 100 resolution: 8 images\n",
      "99 * 100 resolution: 27 images\n",
      "100 * 90 resolution: 36 images\n",
      "94 * 100 resolution: 16 images\n",
      "95 * 100 resolution: 28 images\n",
      "100 * 93 resolution: 29 images\n",
      "100 * 96 resolution: 27 images\n",
      "97 * 100 resolution: 19 images\n",
      "100 * 97 resolution: 31 images\n",
      "100 * 76 resolution: 18 images\n",
      "100 * 92 resolution: 23 images\n",
      "100 * 82 resolution: 21 images\n",
      "100 * 88 resolution: 19 images\n",
      "100 * 75 resolution: 543 images\n",
      "100 * 85 resolution: 33 images\n",
      "81 * 100 resolution: 19 images\n",
      "100 * 80 resolution: 32 images\n",
      "100 * 94 resolution: 32 images\n",
      "93 * 100 resolution: 12 images\n",
      "100 * 81 resolution: 24 images\n",
      "84 * 100 resolution: 14 images\n",
      "92 * 100 resolution: 12 images\n",
      "100 * 91 resolution: 22 images\n",
      "100 * 87 resolution: 17 images\n",
      "100 * 77 resolution: 17 images\n",
      "100 * 89 resolution: 22 images\n",
      "90 * 100 resolution: 21 images\n",
      "100 * 72 resolution: 13 images\n",
      "100 * 83 resolution: 20 images\n",
      "100 * 73 resolution: 23 images\n",
      "82 * 76 resolution: 1 images\n",
      "91 * 100 resolution: 19 images\n",
      "80 * 100 resolution: 20 images\n",
      "89 * 100 resolution: 10 images\n",
      "100 * 86 resolution: 22 images\n",
      "98 * 100 resolution: 28 images\n",
      "100 * 66 resolution: 61 images\n",
      "100 * 64 resolution: 11 images\n",
      "88 * 100 resolution: 7 images\n",
      "72 * 100 resolution: 19 images\n",
      "83 * 100 resolution: 13 images\n",
      "86 * 100 resolution: 18 images\n",
      "78 * 100 resolution: 54 images\n",
      "79 * 100 resolution: 8 images\n",
      "96 * 100 resolution: 22 images\n",
      "100 * 74 resolution: 22 images\n",
      "100 * 79 resolution: 15 images\n",
      "69 * 100 resolution: 12 images\n",
      "68 * 100 resolution: 12 images\n",
      "76 * 100 resolution: 112 images\n",
      "47 * 100 resolution: 62 images\n",
      "60 * 100 resolution: 79 images\n",
      "77 * 100 resolution: 22 images\n",
      "100 * 61 resolution: 516 images\n",
      "100 * 59 resolution: 10321 images\n",
      "100 * 78 resolution: 13 images\n",
      "100 * 99 resolution: 18 images\n",
      "100 * 70 resolution: 15 images\n",
      "100 * 71 resolution: 7 images\n",
      "64 * 64 resolution: 98 images\n",
      "55 * 100 resolution: 134 images\n",
      "63 * 100 resolution: 30 images\n",
      "62 * 100 resolution: 5 images\n",
      "52 * 100 resolution: 22 images\n",
      "58 * 100 resolution: 11 images\n",
      "59 * 100 resolution: 4 images\n",
      "64 * 100 resolution: 11 images\n",
      "51 * 100 resolution: 3 images\n",
      "54 * 100 resolution: 35 images\n",
      "65 * 100 resolution: 5 images\n",
      "57 * 100 resolution: 47 images\n",
      "82 * 100 resolution: 9 images\n",
      "84 * 94 resolution: 1 images\n",
      "84 * 92 resolution: 1 images\n",
      "85 * 100 resolution: 12 images\n",
      "100 * 176 resolution: 106 images\n",
      "100 * 211 resolution: 10 images\n",
      "100 * 132 resolution: 1 images\n",
      "100 * 177 resolution: 54 images\n",
      "100 * 133 resolution: 18 images\n",
      "70 * 100 resolution: 11 images\n",
      "49 * 100 resolution: 21 images\n",
      "100 * 119 resolution: 1 images\n",
      "100 * 140 resolution: 1 images\n",
      "100 * 141 resolution: 2 images\n",
      "74 * 100 resolution: 16 images\n",
      "100 * 138 resolution: 2 images\n",
      "100 * 124 resolution: 1 images\n",
      "71 * 100 resolution: 4 images\n",
      "100 * 118 resolution: 1 images\n",
      "100 * 109 resolution: 1 images\n",
      "73 * 100 resolution: 7 images\n",
      "100 * 125 resolution: 1 images\n",
      "100 * 102 resolution: 1 images\n",
      "100 * 130 resolution: 1 images\n",
      "100 * 101 resolution: 1 images\n",
      "100 * 103 resolution: 1 images\n",
      "100 * 145 resolution: 1 images\n",
      "67 * 100 resolution: 9 images\n",
      "100 * 69 resolution: 12 images\n",
      "100 * 68 resolution: 10 images\n",
      "100 * 63 resolution: 6 images\n",
      "100 * 67 resolution: 11 images\n",
      "100 * 62 resolution: 726 images\n",
      "100 * 65 resolution: 3 images\n",
      "66 * 100 resolution: 43 images\n",
      "42 * 100 resolution: 1 images\n",
      "44 * 100 resolution: 1 images\n",
      "100 * 55 resolution: 143 images\n",
      "46 * 100 resolution: 3 images\n",
      "26 * 100 resolution: 1 images\n",
      "100 * 57 resolution: 3 images\n",
      "98 * 87 resolution: 1 images\n",
      "100 * 58 resolution: 2 images\n",
      "100 * 44 resolution: 2 images\n",
      "87 * 98 resolution: 1 images\n",
      "61 * 100 resolution: 4 images\n",
      "100 * 46 resolution: 1 images\n",
      "100 * 60 resolution: 3 images\n",
      "100 * 54 resolution: 1 images\n",
      "100 * 42 resolution: 1 images\n",
      "100 * 26 resolution: 1 images\n",
      "53 * 100 resolution: 3 images\n",
      "50 * 100 resolution: 2 images\n",
      "48 * 100 resolution: 1 images\n",
      "100 * 53 resolution: 43 images\n"
     ]
    }
   ],
   "source": [
    "base_dir = 'dataset'\n",
    "dataset_dir = 'tmp'\n",
    "\n",
    "os.makedirs(dataset_dir, exist_ok=True)\n",
    "\n",
    "categories = [folder for folder in os.listdir(base_dir)]\n",
    "unique_sizes = {}\n",
    "\n",
    "for category in categories:\n",
    "    os.makedirs(os.path.join(dataset_dir, 'train', category), exist_ok=True)\n",
    "    os.makedirs(os.path.join(dataset_dir, 'validation', category), exist_ok=True)\n",
    "\n",
    "for category in categories:\n",
    "    category_dir = os.path.join(base_dir, category)\n",
    "    files = os.listdir(category_dir)\n",
    "\n",
    "    train_files, validation_files = train_test_split(files, test_size=0.2, random_state=42)\n",
    "\n",
    "    for file in train_files:\n",
    "        src_path = os.path.join(category_dir, file)\n",
    "        img = Image.open(src_path)\n",
    "        w, h = img.size\n",
    "        file_size = f\"{w} * {h}\"\n",
    "        if file_size not in unique_sizes:\n",
    "            unique_sizes[file_size] = 1\n",
    "        else:\n",
    "            unique_sizes[file_size] += 1\n",
    "        dest_path = os.path.join(dataset_dir, 'train', category, file)\n",
    "        shutil.copy(src_path, dest_path)\n",
    "\n",
    "    for file in validation_files:\n",
    "        src_path = os.path.join(category_dir, file)\n",
    "        img = Image.open(src_path)\n",
    "        w, h = img.size\n",
    "        file_size = f\"{w} * {h}\"\n",
    "        if file_size not in unique_sizes:\n",
    "            unique_sizes[file_size] = 1\n",
    "        else:\n",
    "            unique_sizes[file_size] += 1\n",
    "        dest_path = os.path.join(dataset_dir, 'validation', category, file)\n",
    "        shutil.copy(src_path, dest_path)\n",
    "\n",
    "for size, quantity in unique_sizes.items():\n",
    "    print(f\"{size} resolution: {quantity} images\")"
   ]
  },
  {
   "cell_type": "code",
   "execution_count": 4,
   "metadata": {
    "id": "mRhy7JovuSPc"
   },
   "outputs": [],
   "source": [
    "for category in categories:\n",
    "  os.listdir(os.path.join(dataset_dir, 'train', category))"
   ]
  },
  {
   "cell_type": "code",
   "execution_count": 5,
   "metadata": {
    "id": "APMR9s5JuV7S"
   },
   "outputs": [],
   "source": [
    "for category in categories:\n",
    "  os.listdir(os.path.join(dataset_dir, 'validation', category))"
   ]
  },
  {
   "cell_type": "code",
   "execution_count": 6,
   "metadata": {
    "id": "7t9_jfPRuYaU"
   },
   "outputs": [],
   "source": [
    "train_datagen = ImageDataGenerator(\n",
    "                    rescale=1./255,\n",
    "                    rotation_range=20,\n",
    "                    shear_range=0.2,\n",
    "                    vertical_flip=True,\n",
    "                    fill_mode='nearest')\n",
    "\n",
    "test_datagen = ImageDataGenerator(\n",
    "                    rescale=1./255)"
   ]
  },
  {
   "cell_type": "code",
   "execution_count": 7,
   "metadata": {
    "colab": {
     "base_uri": "https://localhost:8080/"
    },
    "id": "J31N9zcIubtr",
    "outputId": "fa11fbe0-6230-4ec4-fb02-e8da921854a1"
   },
   "outputs": [
    {
     "name": "stdout",
     "output_type": "stream",
     "text": [
      "Found 32400 images belonging to 27 classes.\n",
      "Found 8100 images belonging to 27 classes.\n"
     ]
    }
   ],
   "source": [
    "train_generator = train_datagen.flow_from_directory(\n",
    "        os.path.join(dataset_dir, 'train'),\n",
    "        target_size=(100, 100),\n",
    "        batch_size=8,\n",
    "        class_mode='categorical')\n",
    "\n",
    "validation_generator = test_datagen.flow_from_directory(\n",
    "        os.path.join(dataset_dir, 'validation'),\n",
    "        target_size=(100, 100),\n",
    "        batch_size=8,\n",
    "        class_mode='categorical')"
   ]
  },
  {
   "cell_type": "code",
   "execution_count": 8,
   "metadata": {
    "id": "KTEG7qfquini"
   },
   "outputs": [],
   "source": [
    "model = tf.keras.models.Sequential([\n",
    "    tf.keras.layers.Conv2D(32, (3,3), activation='relu', input_shape=(100, 100, 3)),\n",
    "    tf.keras.layers.MaxPooling2D(2, 2),\n",
    "    tf.keras.layers.Conv2D(64, (3,3), activation='relu'),\n",
    "    tf.keras.layers.MaxPooling2D(2,2),\n",
    "    tf.keras.layers.Conv2D(128, (3,3), activation='relu'),\n",
    "    tf.keras.layers.MaxPooling2D(2,2),\n",
    "    tf.keras.layers.Flatten(),\n",
    "    tf.keras.layers.Dense(128, activation='relu'),\n",
    "    tf.keras.layers.Dense(27, activation='softmax')\n",
    "])"
   ]
  },
  {
   "cell_type": "code",
   "execution_count": 9,
   "metadata": {
    "colab": {
     "base_uri": "https://localhost:8080/"
    },
    "id": "bSRTq21RulUH",
    "outputId": "7322678e-3a8c-4de5-ced0-e9ea3a6465d2"
   },
   "outputs": [
    {
     "name": "stdout",
     "output_type": "stream",
     "text": [
      "Model: \"sequential\"\n",
      "_________________________________________________________________\n",
      " Layer (type)                Output Shape              Param #   \n",
      "=================================================================\n",
      " conv2d (Conv2D)             (None, 98, 98, 32)        896       \n",
      "                                                                 \n",
      " max_pooling2d (MaxPooling2  (None, 49, 49, 32)        0         \n",
      " D)                                                              \n",
      "                                                                 \n",
      " conv2d_1 (Conv2D)           (None, 47, 47, 64)        18496     \n",
      "                                                                 \n",
      " max_pooling2d_1 (MaxPoolin  (None, 23, 23, 64)        0         \n",
      " g2D)                                                            \n",
      "                                                                 \n",
      " conv2d_2 (Conv2D)           (None, 21, 21, 128)       73856     \n",
      "                                                                 \n",
      " max_pooling2d_2 (MaxPoolin  (None, 10, 10, 128)       0         \n",
      " g2D)                                                            \n",
      "                                                                 \n",
      " flatten (Flatten)           (None, 12800)             0         \n",
      "                                                                 \n",
      " dense (Dense)               (None, 128)               1638528   \n",
      "                                                                 \n",
      " dense_1 (Dense)             (None, 27)                3483      \n",
      "                                                                 \n",
      "=================================================================\n",
      "Total params: 1735259 (6.62 MB)\n",
      "Trainable params: 1735259 (6.62 MB)\n",
      "Non-trainable params: 0 (0.00 Byte)\n",
      "_________________________________________________________________\n"
     ]
    }
   ],
   "source": [
    "model.summary()"
   ]
  },
  {
   "cell_type": "code",
   "execution_count": 10,
   "metadata": {
    "id": "YitBA74guxBJ"
   },
   "outputs": [],
   "source": [
    "model.compile(loss='categorical_crossentropy',\n",
    "              optimizer=tf.optimizers.Adam(),\n",
    "              metrics=['accuracy'])"
   ]
  },
  {
   "cell_type": "code",
   "execution_count": 11,
   "metadata": {
    "colab": {
     "base_uri": "https://localhost:8080/"
    },
    "id": "d830oU49u2oh",
    "outputId": "1e2b6059-5c11-4b5f-d849-8233272ae928"
   },
   "outputs": [
    {
     "name": "stdout",
     "output_type": "stream",
     "text": [
      "Epoch 1/100\n",
      "4050/4050 - 757s - loss: 1.1919 - accuracy: 0.6529 - val_loss: 0.4974 - val_accuracy: 0.8467 - 757s/epoch - 187ms/step\n",
      "Epoch 2/100\n",
      "4050/4050 - 438s - loss: 0.5090 - accuracy: 0.8496 - val_loss: 0.4035 - val_accuracy: 0.8777 - 438s/epoch - 108ms/step\n",
      "Epoch 3/100\n",
      "4050/4050 - 444s - loss: 0.3698 - accuracy: 0.8880 - val_loss: 0.3303 - val_accuracy: 0.9020 - 444s/epoch - 110ms/step\n",
      "Epoch 4/100\n",
      "4050/4050 - 456s - loss: 0.2969 - accuracy: 0.9066 - val_loss: 0.2850 - val_accuracy: 0.9147 - 456s/epoch - 113ms/step\n",
      "Epoch 5/100\n",
      "\n",
      "Akurasi pelatihan dan validasi telah mencapai >92%!\n",
      "4050/4050 - 455s - loss: 0.2445 - accuracy: 0.9251 - val_loss: 0.2498 - val_accuracy: 0.9257 - 455s/epoch - 112ms/step\n"
     ]
    }
   ],
   "source": [
    "class myCallback(tf.keras.callbacks.Callback):\n",
    "    def on_epoch_end(self, epoch, logs={}):\n",
    "        if logs.get('accuracy') > 0.92 and logs.get('val_accuracy') > 0.92:\n",
    "            print(\"\\nAkurasi pelatihan dan validasi telah mencapai >92%!\")\n",
    "            self.model.stop_training = True\n",
    "callbacks = myCallback()\n",
    "\n",
    "history = model.fit(\n",
    "    train_generator,\n",
    "    epochs=100,\n",
    "    validation_data=validation_generator,\n",
    "    verbose=2,\n",
    "    callbacks=[callbacks]\n",
    ")"
   ]
  },
  {
   "cell_type": "code",
   "execution_count": 12,
   "metadata": {},
   "outputs": [],
   "source": [
    "shutil.rmtree('tmp')"
   ]
  },
  {
   "cell_type": "code",
   "execution_count": 13,
   "metadata": {
    "colab": {
     "base_uri": "https://localhost:8080/",
     "height": 472
    },
    "id": "6Srx26uFImuE",
    "outputId": "711bfe76-5c16-48ea-ac65-1501721eac31"
   },
   "outputs": [
    {
     "data": {
      "image/png": "[encoded data removed]",
      "text/plain": [
       "<Figure size 640x480 with 1 Axes>"
      ]
     },
     "metadata": {},
     "output_type": "display_data"
    }
   ],
   "source": [
    "plt.plot(history.history['loss'], label='Train Loss')\n",
    "plt.plot(history.history['val_loss'], label='Validation Loss')\n",
    "plt.title('Training and Validation Loss')\n",
    "plt.xlabel('Epoch')\n",
    "plt.ylabel('Loss')\n",
    "plt.legend()\n",
    "plt.show()"
   ]
  },
  {
   "cell_type": "code",
   "execution_count": 14,
   "metadata": {
    "colab": {
     "base_uri": "https://localhost:8080/",
     "height": 472
    },
    "id": "4SnaC-ZM2UZ6",
    "outputId": "35c25f0c-140e-4def-8168-44116782861b"
   },
   "outputs": [
    {
     "data": {
      "image/png": "[encoded data removed]",
      "text/plain": [
       "<Figure size 640x480 with 1 Axes>"
      ]
     },
     "metadata": {},
     "output_type": "display_data"
    }
   ],
   "source": [
    "plt.plot(history.history['accuracy'], label='Train Accuracy')\n",
    "plt.plot(history.history['val_accuracy'], label='Validation Accuracy')\n",
    "plt.title('Training and Validation Accuracy')\n",
    "plt.xlabel('Epoch')\n",
    "plt.ylabel('Accuracy')\n",
    "plt.legend()\n",
    "plt.show()"
   ]
  },
  {
   "cell_type": "code",
   "execution_count": null,
   "metadata": {},
   "outputs": [],
   "source": []
  }
 ],
 "metadata": {
  "colab": {
   "provenance": []
  },
  "kernelspec": {
   "display_name": "Python 3 (ipykernel)",
   "language": "python",
   "name": "python3"
  },
  "language_info": {
   "codemirror_mode": {
    "name": "ipython",
    "version": 3
   },
   "file_extension": ".py",
   "mimetype": "text/x-python",
   "name": "python",
   "nbconvert_exporter": "python",
   "pygments_lexer": "ipython3",
   "version": "3.11.5"
  }
 },
 "nbformat": 4,
 "nbformat_minor": 1
}
